{
 "cells": [
  {
   "cell_type": "markdown",
   "id": "b31952ca-f26d-440e-870b-15741f768e9c",
   "metadata": {},
   "source": [
    "# Data Science Tools and Ecosystem"
   ]
  },
  {
   "cell_type": "markdown",
   "id": "536f11e6-9128-4729-99ed-1fbc0278cf8f",
   "metadata": {},
   "source": [
    "In this notebook, Data science tools and Ecosystem are summarized"
   ]
  },
  {
   "cell_type": "markdown",
   "id": "1359b25e-a950-4bad-be40-da27d091ef85",
   "metadata": {},
   "source": [
    "Some of the essential learning during this course"
   ]
  },
  {
   "cell_type": "markdown",
   "id": "b06066ef-d14a-4006-b5d5-b82e424ae4d2",
   "metadata": {},
   "source": [
    "<b>Objectives:</b>"
   ]
  },
  {
   "cell_type": "markdown",
   "id": "7dff316f-f7c6-49da-8230-acf309c3ca36",
   "metadata": {},
   "source": [
    "- List popular languages for data science\n",
    "- Identify Data Science tools\n",
    "- Learn how to evaluate arithmetic expressions\n",
    "- Run existing codes"
   ]
  },
  {
   "cell_type": "markdown",
   "id": "c5afb518-9fea-43c7-b5ec-f7891e010261",
   "metadata": {},
   "source": [
    "Some of the popular languages that Data scientist use are:"
   ]
  },
  {
   "cell_type": "markdown",
   "id": "b10c09a2-879b-4ad0-a225-6b7848cae21d",
   "metadata": {},
   "source": [
    "1. Python\n",
    "2. SQL\n",
    "3. R"
   ]
  },
  {
   "cell_type": "markdown",
   "id": "2c204f64-890b-448a-9d7d-9124d1409a43",
   "metadata": {},
   "source": [
    "Some of the commonly used libraries used by Data Scientists Include:"
   ]
  },
  {
   "cell_type": "markdown",
   "id": "2881a760-7c34-4ad1-9b0b-f300577383e0",
   "metadata": {},
   "source": [
    "1. Pandas\n",
    "2. Seaborn\n",
    "3. NumPy"
   ]
  },
  {
   "cell_type": "markdown",
   "id": "0745c43c-50b3-455f-b7e7-34154eba45e6",
   "metadata": {},
   "source": [
    "Data Science Tools:\n",
    "-------------------\n",
    "1. Pytorch         \n",
    "2. Keras           \n",
    "3. TensorFlow      "
   ]
  },
  {
   "cell_type": "markdown",
   "id": "f5e8d102-90c1-4c89-ac26-efa368d838c7",
   "metadata": {},
   "source": [
    "### Below are a few examples of evaluating arithmetic expressions in Python:"
   ]
  },
  {
   "cell_type": "markdown",
   "id": "0824ffac-bc22-460e-b0b3-aa7106d8a5a4",
   "metadata": {},
   "source": [
    "This is a simple arithmetic expression to multiply then add integers"
   ]
  },
  {
   "cell_type": "code",
   "execution_count": 42,
   "id": "4a3cec22-7791-4451-99f7-297ad6bb5a5b",
   "metadata": {},
   "outputs": [
    {
     "data": {
      "text/plain": [
       "17"
      ]
     },
     "execution_count": 42,
     "metadata": {},
     "output_type": "execute_result"
    }
   ],
   "source": [
    "(3*4)+5"
   ]
  },
  {
   "cell_type": "markdown",
   "id": "b9d1769e-0ce2-4f06-b0df-ba559e70b61a",
   "metadata": {},
   "source": [
    "This will convert 200 minutes to hours by diving by 60"
   ]
  },
  {
   "cell_type": "code",
   "execution_count": 54,
   "id": "34c9db38-72bc-4d17-815b-04c56fe72296",
   "metadata": {},
   "outputs": [
    {
     "data": {
      "text/plain": [
       "3.3333333333333335"
      ]
     },
     "execution_count": 54,
     "metadata": {},
     "output_type": "execute_result"
    }
   ],
   "source": [
    "200/60"
   ]
  },
  {
   "cell_type": "markdown",
   "id": "f095c567-b7a5-489c-b8e2-fa36d9102ffe",
   "metadata": {},
   "source": [
    "## Author\n",
    "Miguel Santiago Braga Solis"
   ]
  },
  {
   "cell_type": "code",
   "execution_count": null,
   "id": "58abfcb4-b600-4bbd-aa78-c397c7743be0",
   "metadata": {},
   "outputs": [],
   "source": []
  }
 ],
 "metadata": {
  "kernelspec": {
   "display_name": "Python [conda env:base] *",
   "language": "python",
   "name": "conda-base-py"
  },
  "language_info": {
   "codemirror_mode": {
    "name": "ipython",
    "version": 3
   },
   "file_extension": ".py",
   "mimetype": "text/x-python",
   "name": "python",
   "nbconvert_exporter": "python",
   "pygments_lexer": "ipython3",
   "version": "3.12.7"
  }
 },
 "nbformat": 4,
 "nbformat_minor": 5
}
